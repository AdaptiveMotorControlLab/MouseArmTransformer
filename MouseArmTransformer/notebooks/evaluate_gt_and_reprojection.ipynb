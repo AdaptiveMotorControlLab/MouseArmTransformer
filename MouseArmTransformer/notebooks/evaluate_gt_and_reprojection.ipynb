{
 "cells": [
  {
   "cell_type": "code",
   "execution_count": 1,
   "id": "827c8b50-7471-4e1d-ad4c-1c195d1c9b62",
   "metadata": {},
   "outputs": [],
   "source": [
    "import glob\n",
    "import os\n",
    "\n",
    "os.environ[\"CUDA_VISIBLE_DEVICES\"] = \"2\"\n",
    "import pickle\n",
    "import sys\n",
    "\n",
    "# From arm\n",
    "import cv2\n",
    "import matplotlib.pyplot as plt\n",
    "import numpy as np\n",
    "import pandas as pd\n",
    "import seaborn as sns\n",
    "import torch\n",
    "import torch.optim as optim\n",
    "from scipy.signal import savgol_filter\n",
    "from scipy.spatial.distance import euclidean\n",
    "from sklearn.linear_model import Lasso, LassoCV, LinearRegression, Ridge, RidgeCV\n",
    "from sklearn.model_selection import train_test_split\n",
    "from torch.utils.data import DataLoader\n",
    "from tqdm import tqdm\n",
    "\n",
    "from MouseArmTransformer import (\n",
    "    criterion,\n",
    "    data,\n",
    "    helper,\n",
    "    inference,\n",
    "    model,\n",
    "    training,\n",
    ")\n",
    "from mausspaun.data_processing.dlc import (\n",
    "    DLC_TO_MUJOCO_MAPPING,\n",
    "    MUJOCO_TO_DLC_MAPPING,\n",
    "    align_data_with_rig_markers,\n",
    ")\n",
    "from MouseArmTransformer.gui import app\n",
    "from mausspaun.visualization.plot_3D_video import plot_3d_video, plot_split_3d_video\n",
    "\n",
    "%load_ext autoreload\n",
    "%autoreload 2"
   ]
  },
  {
   "cell_type": "code",
   "execution_count": null,
   "id": "db6b71c0",
   "metadata": {},
   "outputs": [],
   "source": []
  },
  {
   "cell_type": "code",
   "execution_count": null,
   "id": "b7ed11be",
   "metadata": {},
   "outputs": [],
   "source": [
    "mouse_name = 'HoneyBee'\n",
    "day = 77\n",
    "attempt = 1\n",
    "part = 0\n",
    "base_path = '/data/mausspaun/'"
   ]
  },
  {
   "cell_type": "code",
   "execution_count": null,
   "id": "48d7d7d9",
   "metadata": {},
   "outputs": [],
   "source": [
    "# Test inference\n",
    "(X_3d_test, X_2d_c1_test, X_2d_c2_test, cam_positions, likelihood_c1, likelihood_c2) = helper.load_single_session()\n",
    "cam_positions_dict = {key: X_2d_c1_test[:, i, :] for i, key in enumerate(helper.mausspaun_keys)}\n",
    "inference_preds = inference.run_inference(cam_positions_dict)"
   ]
  },
  {
   "cell_type": "code",
   "execution_count": null,
   "id": "65adcdc7",
   "metadata": {},
   "outputs": [],
   "source": [
    "avg_error, errors = inference.evaluate_ground_truth(inference_preds, mouse_name, day, attempt, verbose=2)"
   ]
  },
  {
   "cell_type": "markdown",
   "id": "e473c83b",
   "metadata": {},
   "source": [
    "---\n",
    "# Test triangulated 3D without using the transformer"
   ]
  },
  {
   "cell_type": "code",
   "execution_count": null,
   "id": "9e101d10",
   "metadata": {},
   "outputs": [],
   "source": [
    "# Original triangulated:\n",
    "filepaths = app.generate_filepaths(base_path + 'videos/videos_dlc2/', mouse_name, day, attempt, part)\n",
    "X_3d_train, X_2d_c1_train, X_2d_c2_train, cam_positions, likelihood_c1, likelihood_c2 = helper.get_training_data(\n",
    "    filepaths[0][1], filepaths[1][1], likelihood_cutoff=0, convert_to_mujoco=False)\n",
    "X_3d_train_dict = {key: X_3d_train[:, i, :] for i, key in enumerate(helper.mausspaun_keys)}\n",
    "X_3d_train_mujoco, (dlc_c, dlc_s, T, mujoco_c, mujoco_s) = helper.dlc_to_mujoco(X_3d_train_dict.copy())"
   ]
  },
  {
   "cell_type": "code",
   "execution_count": null,
   "id": "8ab5ea54",
   "metadata": {},
   "outputs": [],
   "source": [
    "avg_error, errors = inference.evaluate_ground_truth(X_3d_train_mujoco, mouse_name, day, attempt, verbose=2)"
   ]
  },
  {
   "cell_type": "markdown",
   "id": "704cd734",
   "metadata": {},
   "source": [
    "---"
   ]
  },
  {
   "cell_type": "markdown",
   "id": "bfc8abfa",
   "metadata": {},
   "source": [
    "---\n",
    "# Project back to DLC space, then calculate reprojection error"
   ]
  },
  {
   "cell_type": "code",
   "execution_count": null,
   "id": "c9313f38",
   "metadata": {},
   "outputs": [],
   "source": [
    "inference_dlc = helper.mujoco_to_dlc(inference_preds.copy(), dlc_c, dlc_s, T, mujoco_c, mujoco_s)\n",
    "inference_dlc_np = np.transpose(np.array([cp for key, cp in inference_dlc.items()]), axes=(1, 0, 2))\n",
    "triangulated_3D_dlc = np.transpose(np.array([cp for key, cp in X_3d_train_dict.copy().items()]), axes=(1, 0, 2))\n",
    "\n",
    "(all_cam1_transformer, all_cam2_transformer) = helper.project_from_3D_dlc(inference_dlc_np)\n",
    "(all_cam1_triangulated, all_cam2_triangulated) = helper.project_from_3D_dlc(triangulated_3D_dlc)\n",
    "\n",
    "errors_transformer_cam1 = helper.calculate_euclidean_error(X_2d_c1_train, all_cam1_transformer)\n",
    "errors_transformer_cam2 = helper.calculate_euclidean_error(X_2d_c2_train, all_cam2_transformer)\n",
    "errors_triangulated_cam1 = helper.calculate_euclidean_error(X_2d_c1_train, all_cam1_triangulated)\n",
    "errors_triangulated_cam2 = helper.calculate_euclidean_error(X_2d_c2_train, all_cam2_triangulated)"
   ]
  },
  {
   "cell_type": "code",
   "execution_count": null,
   "id": "d36660ab",
   "metadata": {},
   "outputs": [],
   "source": [
    "fig, axes = plt.subplots(2, 2, figsize=(12, 5), sharex=True, sharey=True)\n",
    "axes = axes.flatten()\n",
    "\n",
    "for idx, (errors, txt) in enumerate(\n",
    "        zip([errors_transformer_cam1, errors_transformer_cam2, errors_triangulated_cam1, errors_triangulated_cam2],\n",
    "            ['Transformer Cam1', 'Transformer Cam2', 'Triangulated Cam1', 'Triangulated Cam2'])):\n",
    "    axes[idx].matshow(np.log(errors.T), aspect='auto')\n",
    "    axes[idx].set_title(txt)\n",
    "axes[0].set_ylabel('Joints')\n",
    "axes[2].set_xlabel('Time')\n",
    "fig.tight_layout()"
   ]
  },
  {
   "cell_type": "code",
   "execution_count": null,
   "id": "e7497af4",
   "metadata": {},
   "outputs": [],
   "source": []
  }
 ],
 "metadata": {
  "kernelspec": {
   "display_name": "Python 3 (ipykernel)",
   "language": "python",
   "name": "python3"
  },
  "language_info": {
   "codemirror_mode": {
    "name": "ipython",
    "version": 3
   },
   "file_extension": ".py",
   "mimetype": "text/x-python",
   "name": "python",
   "nbconvert_exporter": "python",
   "pygments_lexer": "ipython3",
   "version": "3.9.16"
  }
 },
 "nbformat": 4,
 "nbformat_minor": 5
}
