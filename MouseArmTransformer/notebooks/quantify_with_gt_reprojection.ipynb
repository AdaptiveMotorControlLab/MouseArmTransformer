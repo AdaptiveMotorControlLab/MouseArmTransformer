{
 "cells": [
  {
   "cell_type": "code",
   "execution_count": null,
   "id": "827c8b50-7471-4e1d-ad4c-1c195d1c9b62",
   "metadata": {},
   "outputs": [],
   "source": [
    "import glob\n",
    "import os\n",
    "\n",
    "os.environ[\"CUDA_VISIBLE_DEVICES\"] = \"2\"\n",
    "import pickle\n",
    "import sys\n",
    "\n",
    "# From arm\n",
    "import cv2\n",
    "import matplotlib.pyplot as plt\n",
    "import numpy as np\n",
    "import pandas as pd\n",
    "import seaborn as sns\n",
    "import torch\n",
    "import torch.optim as optim\n",
    "from scipy.signal import savgol_filter\n",
    "from scipy.spatial.distance import euclidean\n",
    "from sklearn.linear_model import Lasso, LassoCV, LinearRegression, Ridge, RidgeCV\n",
    "from sklearn.model_selection import train_test_split\n",
    "from torch.utils.data import DataLoader\n",
    "from tqdm import tqdm\n",
    "\n",
    "from lifting_transformer.lifting_transformer import (\n",
    "    criterion,\n",
    "    data,\n",
    "    helper,\n",
    "    inference,\n",
    "    model,\n",
    "    training,\n",
    ")\n",
    "from mausspaun.data_processing.dlc import (\n",
    "    DLC_TO_MUJOCO_MAPPING,\n",
    "    MUJOCO_TO_DLC_MAPPING,\n",
    "    align_data_with_rig_markers,\n",
    ")\n",
    "from mausspaun.data_processing.lifting.rig import MouseReachingRig5_2018\n",
    "from mausspaun.data_processing.lifting.utils import _f32, _f64\n",
    "from mausspaun.visualization.gui import app\n",
    "from mausspaun.visualization.plot_3D_video import plot_3d_video, plot_split_3d_video\n",
    "\n",
    "plt.style.use('cyhsm')\n",
    "\n",
    "%load_ext autoreload\n",
    "%autoreload 2"
   ]
  },
  {
   "cell_type": "code",
   "execution_count": null,
   "id": "e0e9fe28",
   "metadata": {},
   "outputs": [],
   "source": [
    "def get_rig(calibration_folder=\"/data/markus/mausspaun/calibration/data/2018_mouse_reaching_rig5/calibration/\"):\n",
    "    return MouseReachingRig5_2018(calibration_folder)\n",
    "\n",
    "\n",
    "def project_both_cameras(rig, points_3D):\n",
    "    points_cam1 = project_points(points_3D, _f32(rig.stereo_rig[0].intrinsics), _f64(rig.stereo_rig[0].rotation),\n",
    "                                 _f32(rig.stereo_rig[0].translation))\n",
    "    points_cam2 = project_points(points_3D, _f32(rig.stereo_rig[1].intrinsics), _f64(rig.stereo_rig[1].rotation),\n",
    "                                 _f32(rig.stereo_rig[1].translation))\n",
    "    return (points_cam1, points_cam2)\n",
    "\n",
    "\n",
    "def project_from_3D_dlc(inference_dlc_np):\n",
    "    all_cam1, all_cam2 = [], []\n",
    "    for i in range(0, inference_dlc_np.shape[1]):\n",
    "        (cam1, cam2) = project_both_cameras(inference_dlc_np[:, i:i + 1, :])\n",
    "        all_cam1.append(cam1)\n",
    "        all_cam2.append(cam2)\n",
    "    all_cam1 = np.transpose(np.array(all_cam1), axes=(2, 0, 1))\n",
    "    all_cam2 = np.transpose(np.array(all_cam2), axes=(2, 0, 1))\n",
    "    return (all_cam1, all_cam2)\n",
    "\n",
    "\n",
    "def project_points(points_3D, intrinsic_matrix, rotation_matrix, translation_vector):\n",
    "    p, _ = cv2.projectPoints(\n",
    "        _f32(points_3D),\n",
    "        rotation_matrix,\n",
    "        translation_vector,\n",
    "        intrinsic_matrix,\n",
    "        distCoeffs=None,\n",
    "    )\n",
    "    return p.squeeze().T\n",
    "\n",
    "\n",
    "def calculate_euclidean_error(array1, array2):\n",
    "    squared_diff = np.sum(np.square(array1 - array2), axis=-1)\n",
    "    return np.sqrt(squared_diff)"
   ]
  },
  {
   "cell_type": "code",
   "execution_count": null,
   "id": "b7ed11be",
   "metadata": {},
   "outputs": [],
   "source": [
    "mouse_name = 'HoneyBee'\n",
    "day = 77\n",
    "attempt = 1\n",
    "part = 0\n",
    "base_path = '/data/mausspaun/'"
   ]
  },
  {
   "cell_type": "code",
   "execution_count": null,
   "id": "47262681",
   "metadata": {},
   "outputs": [],
   "source": []
  },
  {
   "cell_type": "code",
   "execution_count": null,
   "id": "48d7d7d9",
   "metadata": {},
   "outputs": [],
   "source": [
    "# Test inference\n",
    "(X_3d_test, X_2d_c1_test, X_2d_c2_test, cam_positions, likelihood_c1, likelihood_c2) = helper.load_single_session()\n",
    "cam_positions_dict = {key: X_2d_c1_test[:, i, :] for i, key in enumerate(helper.mausspaun_keys)}\n",
    "inference_preds = inference.run_inference(cam_positions_dict)"
   ]
  },
  {
   "cell_type": "code",
   "execution_count": null,
   "id": "65adcdc7",
   "metadata": {},
   "outputs": [],
   "source": [
    "avg_error, errors = inference.evaluate_ground_truth(inference_preds, mouse_name, day, attempt, verbose=2)"
   ]
  },
  {
   "cell_type": "markdown",
   "id": "e473c83b",
   "metadata": {},
   "source": [
    "---\n",
    "# Test triangulated 3D without using the transformer"
   ]
  },
  {
   "cell_type": "code",
   "execution_count": null,
   "id": "9e101d10",
   "metadata": {},
   "outputs": [],
   "source": [
    "# Original triangulated:\n",
    "filepaths = app.generate_filepaths(base_path + 'videos/videos_dlc2/', mouse_name, day, attempt, part)\n",
    "X_3d_train, X_2d_c1_train, X_2d_c2_train, cam_positions, likelihood_c1, likelihood_c2 = helper.get_training_data(\n",
    "    filepaths[0][1], filepaths[1][1], likelihood_cutoff=0, convert_to_mujoco=False)\n",
    "X_3d_train_dict = {key: X_3d_train[:, i, :] for i, key in enumerate(helper.mausspaun_keys)}\n",
    "X_3d_train_mujoco, (dlc_c, dlc_s, T, mujoco_c, mujoco_s) = helper.dlc_to_mujoco(X_3d_train_dict.copy())"
   ]
  },
  {
   "cell_type": "code",
   "execution_count": null,
   "id": "8ab5ea54",
   "metadata": {},
   "outputs": [],
   "source": [
    "avg_error, errors = inference.evaluate_ground_truth(X_3d_train_mujoco, mouse_name, day, attempt, verbose=2)"
   ]
  },
  {
   "cell_type": "markdown",
   "id": "704cd734",
   "metadata": {},
   "source": [
    "---"
   ]
  },
  {
   "cell_type": "code",
   "execution_count": null,
   "id": "8a05dd60",
   "metadata": {},
   "outputs": [],
   "source": [
    "triangulated_3D = np.transpose(np.array([cp for key, cp in X_3d_train_mujoco.copy().items()]), axes=(1, 0, 2))\n",
    "triangulated_3D_dlc = np.transpose(np.array([cp for key, cp in X_3d_train_dict.copy().items()]), axes=(1, 0, 2))\n",
    "\n",
    "transformer_3D = np.transpose(np.array([cp for key, cp in inference_preds.copy().items()]), axes=(1, 0, 2))\n",
    "original_2D_cam1 = X_2d_c1_train.copy()\n",
    "original_2D_cam2 = X_2d_c2_train.copy()\n",
    "\n",
    "print(\n",
    "    f\"Triangulated: {triangulated_3D.shape}, Transformer: {transformer_3D.shape}, 2D Cam1: {original_2D_cam1.shape}, 2D Cam2: {original_2D_cam2.shape}\"\n",
    ")\n",
    "print(\n",
    "    f\"Triangulated Max: {np.max(triangulated_3D, axis=(0,1))}, Triangulated Min: {np.min(triangulated_3D, axis=(0,1))}\")\n",
    "print(\n",
    "    f\"Triangulated PctHigh: {np.percentile(triangulated_3D, 95, axis=(0,1))}, Triangulated PctLow: {np.percentile(triangulated_3D, 5, axis=(0,1))}\"\n",
    ")\n",
    "print(\"---\")\n",
    "print(\n",
    "    f\"Triangulated Max: {np.max(triangulated_3D_dlc, axis=(0,1))}, Triangulated Min: {np.min(triangulated_3D_dlc, axis=(0,1))}\"\n",
    ")\n",
    "print(\n",
    "    f\"Triangulated PctHigh: {np.percentile(triangulated_3D_dlc, 95, axis=(0,1))}, Triangulated PctLow: {np.percentile(triangulated_3D_dlc, 5, axis=(0,1))}\"\n",
    ")\n",
    "print(\"---\")\n",
    "print(f\"Transformer Max: {np.max(transformer_3D, axis=(0,1))}, Transformer Min: {np.min(transformer_3D, axis=(0,1))}\")\n",
    "print(f\"2D Cam1 Max: {np.max(original_2D_cam1, axis=(0,1))}, 2D Cam1 Min: {np.min(original_2D_cam1, axis=(0,1))}\")\n",
    "print(\n",
    "    f\"2D Cam1 PctHigh: {np.percentile(original_2D_cam1, 95, axis=(0,1))}, 2D Cam1 PctLow: {np.percentile(original_2D_cam1, 5, axis=(0,1))}\"\n",
    ")\n",
    "print(f\"2D Cam2 Max: {np.max(original_2D_cam2, axis=(0,1))}, 2D Cam2 Min: {np.min(original_2D_cam2, axis=(0,1))}\")\n",
    "print(\n",
    "    f\"2D Cam2 PctHigh: {np.percentile(original_2D_cam2, 95, axis=(0,1))}, 2D Cam2 PctLow: {np.percentile(original_2D_cam2, 5, axis=(0,1))}\"\n",
    ")"
   ]
  },
  {
   "cell_type": "code",
   "execution_count": null,
   "id": "d0ae0ce6",
   "metadata": {},
   "outputs": [],
   "source": []
  },
  {
   "cell_type": "code",
   "execution_count": null,
   "id": "8bc51997",
   "metadata": {},
   "outputs": [],
   "source": [
    "transformer_3D_dlc = helper.mujoco_to_dlc(inference_preds.copy(), dlc_c, dlc_s, T, mujoco_c, mujoco_s)\n",
    "transformer_3D_dlc = np.transpose(np.array([cp for key, cp in transformer_3D_dlc.items()]), axes=(1, 0, 2))\n",
    "print(\n",
    "    f\"Transformer DLC Max: {np.max(transformer_3D_dlc, axis=(0,1))}, Transformer DLC Min: {np.min(transformer_3D_dlc, axis=(0,1))}\"\n",
    ")\n",
    "print(\n",
    "    f\"Transformer DLC PctHigh: {np.percentile(transformer_3D_dlc, 95, axis=(0,1))}, Transformer DLC PctLow: {np.percentile(transformer_3D_dlc, 5, axis=(0,1))}\"\n",
    ")\n",
    "\n",
    "(all_cam1, all_cam2) = project_from_3D_dlc(transformer_3D_dlc)\n",
    "print(f\"Cam1 Max: {np.max(all_cam1, axis=(0,1))}, Cam1 Min: {np.min(all_cam1, axis=(0,1))}\")\n",
    "print(f\"Cam1 PctHigh: {np.percentile(all_cam1, 95, axis=(0,1))}, Cam1 PctLow: {np.percentile(all_cam1, 5, axis=(0,1))}\")\n",
    "\n",
    "print(f\"Cam2 Max: {np.max(all_cam2, axis=(0,1))}, Cam2 Min: {np.min(all_cam2, axis=(0,1))}\")\n",
    "print(f\"Cam2 PctHigh: {np.percentile(all_cam2, 95, axis=(0,1))}, Cam2 PctLow: {np.percentile(all_cam2, 5, axis=(0,1))}\")"
   ]
  },
  {
   "cell_type": "code",
   "execution_count": null,
   "id": "db8ab10d",
   "metadata": {},
   "outputs": [],
   "source": []
  },
  {
   "cell_type": "code",
   "execution_count": null,
   "id": "f8a76f3c",
   "metadata": {},
   "outputs": [],
   "source": [
    "print(\n",
    "    f\"Triangulated DLC Max: {np.max(triangulated_3D_dlc, axis=(0,1))}, Triangulated DLC Min: {np.min(triangulated_3D_dlc, axis=(0,1))}\"\n",
    ")\n",
    "print(\n",
    "    f\"Triangulated DLC PctHigh: {np.percentile(triangulated_3D_dlc, 95, axis=(0,1))}, Triangulated DLC PctLow: {np.percentile(triangulated_3D_dlc, 5, axis=(0,1))}\"\n",
    ")\n",
    "\n",
    "(all_cam1, all_cam2) = project_from_3D_dlc(triangulated_3D_dlc)\n",
    "print(f\"Cam1 Max: {np.max(all_cam1, axis=(0,1))}, Cam1 Min: {np.min(all_cam1, axis=(0,1))}\")\n",
    "print(f\"Cam1 PctHigh: {np.percentile(all_cam1, 95, axis=(0,1))}, Cam1 PctLow: {np.percentile(all_cam1, 5, axis=(0,1))}\")\n",
    "\n",
    "print(f\"Cam2 Max: {np.max(all_cam2, axis=(0,1))}, Cam2 Min: {np.min(all_cam2, axis=(0,1))}\")\n",
    "print(f\"Cam2 PctHigh: {np.percentile(all_cam2, 95, axis=(0,1))}, Cam2 PctLow: {np.percentile(all_cam2, 5, axis=(0,1))}\")"
   ]
  },
  {
   "cell_type": "code",
   "execution_count": null,
   "id": "b380376b",
   "metadata": {},
   "outputs": [],
   "source": []
  },
  {
   "cell_type": "code",
   "execution_count": null,
   "id": "210dddda",
   "metadata": {},
   "outputs": [],
   "source": []
  },
  {
   "cell_type": "markdown",
   "id": "bfc8abfa",
   "metadata": {},
   "source": [
    "---\n",
    "# Project back to DLC space, then calculate reprojection error"
   ]
  },
  {
   "cell_type": "code",
   "execution_count": null,
   "id": "c9313f38",
   "metadata": {},
   "outputs": [],
   "source": [
    "inference_dlc = helper.mujoco_to_dlc(inference_preds.copy(), dlc_c, dlc_s, T, mujoco_c, mujoco_s)\n",
    "inference_dlc_np = np.transpose(np.array([cp for key, cp in inference_dlc.items()]), axes=(1, 0, 2))\n",
    "\n",
    "(all_cam1_transformer, all_cam2_transformer) = project_from_3D_dlc(inference_dlc_np)\n",
    "(all_cam1_triangulated, all_cam2_triangulated) = project_from_3D_dlc(triangulated_3D_dlc)\n",
    "\n",
    "errors_transformer_cam1 = calculate_euclidean_error(X_2d_c1_train, all_cam1_transformer)\n",
    "errors_transformer_cam2 = calculate_euclidean_error(X_2d_c2_train, all_cam2_transformer)\n",
    "errors_triangulated_cam1 = calculate_euclidean_error(X_2d_c1_train, all_cam1_triangulated)\n",
    "errors_triangulated_cam2 = calculate_euclidean_error(X_2d_c2_train, all_cam2_triangulated)"
   ]
  },
  {
   "cell_type": "code",
   "execution_count": null,
   "id": "d36660ab",
   "metadata": {},
   "outputs": [],
   "source": [
    "fig, axes = plt.subplots(2, 2, figsize=(12, 5), sharex=True, sharey=True)\n",
    "axes = axes.flatten()\n",
    "\n",
    "for idx, (errors, txt) in enumerate(\n",
    "        zip([errors_transformer_cam1, errors_transformer_cam2, errors_triangulated_cam1, errors_triangulated_cam2],\n",
    "            ['Transformer Cam1', 'Transformer Cam2', 'Triangulated Cam1', 'Triangulated Cam2'])):\n",
    "    axes[idx].matshow(np.log(errors.T), aspect='auto')\n",
    "    axes[idx].set_title(txt)\n",
    "axes[0].set_ylabel('Joints')\n",
    "axes[2].set_xlabel('Time')\n",
    "fig.tight_layout()"
   ]
  },
  {
   "cell_type": "code",
   "execution_count": null,
   "id": "685a65f4",
   "metadata": {},
   "outputs": [],
   "source": []
  },
  {
   "cell_type": "code",
   "execution_count": null,
   "id": "e7497af4",
   "metadata": {},
   "outputs": [],
   "source": []
  }
 ],
 "metadata": {
  "kernelspec": {
   "display_name": "Python 3 (ipykernel)",
   "language": "python",
   "name": "python3"
  },
  "language_info": {
   "codemirror_mode": {
    "name": "ipython",
    "version": 3
   },
   "file_extension": ".py",
   "mimetype": "text/x-python",
   "name": "python",
   "nbconvert_exporter": "python",
   "pygments_lexer": "ipython3",
   "version": "3.9.16"
  }
 },
 "nbformat": 4,
 "nbformat_minor": 5
}
